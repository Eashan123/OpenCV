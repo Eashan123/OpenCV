{
 "cells": [
  {
   "cell_type": "code",
   "execution_count": 1,
   "metadata": {},
   "outputs": [],
   "source": [
    "import cv2\n",
    "import numpy as np\n",
    "\n",
    "#Blank Image\n",
    "image = np.zeros((300, 300, 3), np.uint8)\n",
    "cv2.imshow(\"Blank Image\", image)\n",
    "\n",
    "#Blank image (Black and White)\n",
    "imageb = np.zeros((300, 300), np.uint8)\n",
    "cv2.imshow(\"Black and white Blank Image\", imageb)\n",
    "\n",
    "cv2.waitKey(0)\n",
    "cv2.destroyAllWindows()\n"
   ]
  },
  {
   "cell_type": "code",
   "execution_count": 5,
   "metadata": {},
   "outputs": [],
   "source": [
    "#Drawing line \n",
    "image = np.zeros((300,300,3), np.uint8)\n",
    "cv2.line(image, (0,0), (299,299), (255,255,0), 2)\n",
    "cv2.imshow(\"Line Drawn\", image)\n",
    "\n",
    "cv2.waitKey(0)\n",
    "cv2.destroyAllWindows()"
   ]
  },
  {
   "cell_type": "code",
   "execution_count": 6,
   "metadata": {},
   "outputs": [],
   "source": [
    "#Drawing a Rectangle\n",
    "image = np.zeros((300,300,3), np.uint8)\n",
    "cv2.rectangle(image, (50,50), (250,250), (255,255,0), 2)\n",
    "cv2.imshow('Rectangle Drawn', image)\n",
    "cv2.waitKey(0)\n",
    "cv2.destroyAllWindows()"
   ]
  },
  {
   "cell_type": "code",
   "execution_count": 8,
   "metadata": {},
   "outputs": [],
   "source": [
    "#Drawing a Circle\n",
    "image = np.zeros((300,300,3), np.uint8)\n",
    "cv2.circle(image, (150,150), 50, (255,255,0), 2)\n",
    "cv2.imshow('Circle Drawn', image)\n",
    "cv2.waitKey(0)\n",
    "cv2.destroyAllWindows()"
   ]
  },
  {
   "cell_type": "code",
   "execution_count": 17,
   "metadata": {},
   "outputs": [],
   "source": [
    "#Adding Text on Image\n",
    "image = np.zeros((300,500,3), np.uint8)\n",
    "cv2.putText(image, 'Hello this is Rupesh!!', (50,125), cv2.FONT_HERSHEY_DUPLEX, 1, (255,25,0), 2)\n",
    "cv2.imshow('Text in Image',image)\n",
    "cv2.waitKey(0)\n",
    "cv2.destroyAllWindows()\n",
    "\n"
   ]
  }
 ],
 "metadata": {
  "kernelspec": {
   "display_name": "Python 3",
   "language": "python",
   "name": "python3"
  },
  "language_info": {
   "codemirror_mode": {
    "name": "ipython",
    "version": 3
   },
   "file_extension": ".py",
   "mimetype": "text/x-python",
   "name": "python",
   "nbconvert_exporter": "python",
   "pygments_lexer": "ipython3",
   "version": "3.6.4"
  }
 },
 "nbformat": 4,
 "nbformat_minor": 2
}
