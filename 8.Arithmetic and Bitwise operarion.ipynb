{
 "cells": [
  {
   "cell_type": "markdown",
   "metadata": {},
   "source": [
    "### Arithmetic Operation\n",
    "#### Brightening or Darkening the image"
   ]
  },
  {
   "cell_type": "code",
   "execution_count": 13,
   "metadata": {},
   "outputs": [],
   "source": [
    "import cv2\n",
    "import numpy as np\n",
    "\n",
    "image = cv2.imread('./Images/one.jpg')\n",
    "\n",
    "#same matrix as image with all values 100\n",
    "S = np.ones(image.shape, dtype = 'uint8')*75\n",
    "\n",
    "add = cv2.add(image, S)\n",
    "cv2.imshow('Adding', add)\n",
    "cv2.waitKey(0)\n",
    "\n",
    "sub = cv2.subtract(image, S)\n",
    "cv2.imshow('Adding', sub)\n",
    "cv2.waitKey(0)\n",
    "cv2.destroyAllWindows()\n"
   ]
  },
  {
   "cell_type": "markdown",
   "metadata": {},
   "source": [
    "### Bitwise Operation"
   ]
  },
  {
   "cell_type": "code",
   "execution_count": 3,
   "metadata": {},
   "outputs": [],
   "source": [
    "import cv2\n",
    "import numpy as np\n",
    "\n",
    "\n",
    "#Making a square\n",
    "square = np.zeros((300, 300), np.uint8)\n",
    "cv2.rectangle(square, (50, 50), (250,250), 255, -2)\n",
    "cv2.imshow('Square', square)\n",
    "cv2.waitKey(0)\n",
    "\n",
    "#Making a ellipse\n",
    "ellipse = np.zeros((300, 300), np.uint8)\n",
    "cv2.ellipse(ellipse, (150, 150), (150, 150), 30, 0, 180, 255, -1)\n",
    "cv2.imshow('Ellipse',ellipse)\n",
    "cv2.waitKey(0)\n",
    "\n",
    "cv2.destroyAllWindows()"
   ]
  },
  {
   "cell_type": "code",
   "execution_count": 8,
   "metadata": {},
   "outputs": [],
   "source": [
    "#Shows Intersection only\n",
    "And = cv2.bitwise_and(square, ellipse)\n",
    "cv2.imshow('AND', And)\n",
    "cv2.waitKey(0)\n",
    "\n",
    "\n",
    "#Shows union\n",
    "Or = cv2.bitwise_xor(square, ellipse)\n",
    "cv2.imshow('OR', Or)\n",
    "cv2.waitKey(0)\n",
    "\n",
    "#Shows every except intersection\n",
    "Xor = cv2.bitwise_or(square, ellipse)\n",
    "cv2.imshow('XOR', Xor)\n",
    "cv2.waitKey(0)\n",
    "\n",
    "#Shows everythis that is not in square\n",
    "Not = cv2.bitwise_not(square)\n",
    "cv2.imshow('Not', Not)\n",
    "cv2.waitKey(0)\n",
    "\n",
    "\n",
    "\n",
    "cv2.destroyAllWindows()"
   ]
  }
 ],
 "metadata": {
  "kernelspec": {
   "display_name": "Python 3",
   "language": "python",
   "name": "python3"
  },
  "language_info": {
   "codemirror_mode": {
    "name": "ipython",
    "version": 3
   },
   "file_extension": ".py",
   "mimetype": "text/x-python",
   "name": "python",
   "nbconvert_exporter": "python",
   "pygments_lexer": "ipython3",
   "version": "3.6.4"
  }
 },
 "nbformat": 4,
 "nbformat_minor": 2
}
