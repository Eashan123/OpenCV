{
 "cells": [
  {
   "cell_type": "code",
   "execution_count": 10,
   "metadata": {},
   "outputs": [],
   "source": [
    "#Translation\n",
    "import cv2\n",
    "import numpy as np\n",
    "\n",
    "image = cv2.imread('./Images/one.jpg')\n",
    "height, width = image.shape[:2]\n",
    "\n",
    "th,tw = height/3, width/3\n",
    "\n",
    "#Translation Matrix calculation\n",
    "T = np.float32([[1, 0, tw], [0, 1, th]])\n",
    "\n",
    "#Translation\n",
    "img_trans = cv2.warpAffine(image, T, (width, height))\n",
    "cv2.imshow('Translated Image', img_trans)\n",
    "cv2.waitKey(0)\n",
    "cv2.destroyAllWindows()\n",
    "\n"
   ]
  },
  {
   "cell_type": "code",
   "execution_count": 17,
   "metadata": {},
   "outputs": [],
   "source": [
    "#Rotation \n",
    "import cv2\n",
    "import numpy as np\n",
    "\n",
    "image = cv2.imread('./Images/one.jpg')\n",
    "height, width = image.shape[:2]\n",
    "\n",
    "#Rotation Matrix calculation\n",
    "M = cv2.getRotationMatrix2D((width/2, height/2), 90, 0.5)\n",
    "\n",
    "#Rotation\n",
    "img_rot = cv2.warpAffine(image, M, (width, height))\n",
    "cv2.imshow('Rotated Image', img_rot)\n",
    "cv2.waitKey(0)\n",
    "cv2.destroyAllWindows()\n"
   ]
  },
  {
   "cell_type": "code",
   "execution_count": 19,
   "metadata": {},
   "outputs": [],
   "source": [
    "#Transpoisng(Fully rotate ...no any blank space)\n",
    "img_transpose = cv2.transpose(image)\n",
    "cv2.imshow('Transposed Image', img_transpose)\n",
    "cv2.waitKey(0)\n",
    "cv2.destroyAllWindows()"
   ]
  }
 ],
 "metadata": {
  "kernelspec": {
   "display_name": "Python 3",
   "language": "python",
   "name": "python3"
  },
  "language_info": {
   "codemirror_mode": {
    "name": "ipython",
    "version": 3
   },
   "file_extension": ".py",
   "mimetype": "text/x-python",
   "name": "python",
   "nbconvert_exporter": "python",
   "pygments_lexer": "ipython3",
   "version": "3.6.4"
  }
 },
 "nbformat": 4,
 "nbformat_minor": 2
}
