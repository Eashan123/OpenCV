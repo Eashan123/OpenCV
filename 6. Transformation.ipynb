{
 "cells": [
  {
   "cell_type": "code",
   "execution_count": 10,
   "metadata": {},
   "outputs": [],
   "source": [
    "#Translation\n",
    "import cv2\n",
    "import numpy as np\n",
    "\n",
    "image = cv2.imread('./Images/one.jpg')\n",
    "height, width = image.shape[:2]\n",
    "\n",
    "th,tw = height/3, width/3\n",
    "\n",
    "#Translation Matrix calculation\n",
    "T = np.float32([[1, 0, tw], [0, 1, th]])\n",
    "\n",
    "#Translation\n",
    "img_trans = cv2.warpAffine(image, T, (width, height))\n",
    "cv2.imshow('Translated Image', img_trans)\n",
    "cv2.waitKey(0)\n",
    "cv2.destroyAllWindows()\n",
    "\n"
   ]
  },
  {
   "cell_type": "code",
   "execution_count": null,
   "metadata": {},
   "outputs": [],
   "source": [
    "# Rotation \n",
    "import cv2\n",
    "import numpy as np\n",
    "\n",
    "image = cv2.imread('./Images/one.jpg')\n",
    "height, width = image.shape[:2]\n",
    "\n",
    "#Rotation Matrix calculation\n",
    "M = cv2.getRotationMatrix2D((width/2, height/2), 90, 0.5)\n",
    "\n",
    "#Rotation\n",
    "img_rot = cv2.warpAffine(image, M, (width, height))\n",
    "cv2.imshow('Rotated Image', img_rot)\n",
    "cv2.waitKey(0)\n",
    "cv2.destroyAllWindows()\n"
   ]
  },
  {
   "cell_type": "code",
   "execution_count": 19,
   "metadata": {},
   "outputs": [],
   "source": [
    "#Transpoisng(Fully rotate ...no any blank space)\n",
    "img_transpose = cv2.transpose(image)\n",
    "cv2.imshow('Transposed Image', img_transpose)\n",
    "cv2.waitKey(0)\n",
    "cv2.destroyAllWindows()"
   ]
  },
  {
   "cell_type": "code",
   "execution_count": 33,
   "metadata": {},
   "outputs": [],
   "source": [
    "#Scaling and Resizing \n",
    "import cv2\n",
    "import numpy as np\n",
    "\n",
    "image = cv2.imread('./Images/one.jpg')\n",
    "\n",
    "#Making image 1/4th (Linear Interpolation)\n",
    "image_scaled = cv2.resize(image, None, fx = 0.25, fy = 0.25)\n",
    "cv2.imshow('Scaled Image', image_scaled)\n",
    "cv2.waitKey(0)\n",
    "cv2.destroyAllWindows()\n",
    "\n",
    "#Making the size of image 3 times(Cubic Interpolation)\n",
    "image2 = cv2.imread('./Images/old.jpg')\n",
    "scaled_image = cv2.resize(image2, None, fx = 3, fy = 3, interpolation = cv2.INTER_CUBIC)\n",
    "cv2.imshow('Scaled Image', scaled_image)\n",
    "cv2.waitKey(0)\n",
    "cv2.destroyAllWindows()\n",
    "\n",
    "#Resizing image with dimensions\n",
    "scaled_image = cv2.resize(image2,(800,400) , interpolation = cv2.INTER_AREA)\n",
    "cv2.imshow('Scaled Image', scaled_image)\n",
    "cv2.waitKey(0)\n",
    "cv2.destroyAllWindows()\n"
   ]
  },
  {
   "cell_type": "markdown",
   "metadata": {},
   "source": [
    "### Image Pyramids"
   ]
  },
  {
   "cell_type": "code",
   "execution_count": 6,
   "metadata": {},
   "outputs": [],
   "source": [
    "import cv2\n",
    "\n",
    "image = cv2.imread('./Images/one.jpg')\n",
    "smaller = cv2.pyrDown(image)\n",
    "#larger = cv2.pyrUp(smaller)\n",
    "for i in range(5):\n",
    "    smaller = cv2.pyrDown(smaller)\n",
    "    cv2.imshow('Pyrimid(Smaller)', smaller)\n",
    "    cv2.waitKey(0)\n",
    "    cv2.destroyAllWindows()\n",
    "    \n",
    "    "
   ]
  }
 ],
 "metadata": {
  "kernelspec": {
   "display_name": "Python 3",
   "language": "python",
   "name": "python3"
  },
  "language_info": {
   "codemirror_mode": {
    "name": "ipython",
    "version": 3
   },
   "file_extension": ".py",
   "mimetype": "text/x-python",
   "name": "python",
   "nbconvert_exporter": "python",
   "pygments_lexer": "ipython3",
   "version": "3.6.4"
  }
 },
 "nbformat": 4,
 "nbformat_minor": 2
}
